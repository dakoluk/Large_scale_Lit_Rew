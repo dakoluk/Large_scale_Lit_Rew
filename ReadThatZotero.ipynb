{
 "cells": [
  {
   "cell_type": "code",
   "execution_count": null,
   "metadata": {},
   "outputs": [],
   "source": [
    "import rispy\n",
    "\n",
    "# Path to your .ris file\n",
    "ris_file_path = 'path.ris'\n",
    "\n",
    "def read_ris_file(file_path):\n",
    "    # Specify the encoding to 'utf-8' when opening the file\n",
    "    with open(file_path, 'r', encoding='utf-8') as bibliography_file:\n",
    "        entries = rispy.load(bibliography_file)\n",
    "\n",
    "        for entry in entries:\n",
    "            # Example: print the title and publication year of each entry\n",
    "            print(f\"Title: {entry.get('title', 'No title available')}\")\n",
    "            print(f\"Year: {entry.get('year', 'No year available')}\")\n",
    "            print(\"---\")\n",
    "\n",
    "# Call the function with your file path\n",
    "read_ris_file(ris_file_path)"
   ]
  },
  {
   "cell_type": "markdown",
   "metadata": {},
   "source": [
    "\n",
    "Extract keywords from the ris file"
   ]
  },
  {
   "cell_type": "code",
   "execution_count": null,
   "metadata": {},
   "outputs": [],
   "source": [
    "import pandas as pd\n",
    "from wordcloud import WordCloud\n",
    "import matplotlib.pyplot as plt\n",
    "from collections import Counter\n",
    "\n",
    "\n",
    "# Path to your .ris file\n",
    "ris_file_path = 'path.ris'\n",
    "\n",
    "# Function to extract keywords\n",
    "def extract_keywords(file_path):\n",
    "    keywords = []\n",
    "    with open(file_path, 'r', encoding='utf-8') as bibliography_file:\n",
    "        entries = rispy.load(bibliography_file)\n",
    "        for entry in entries:\n",
    "            if 'title' in entry:  # Check if the 'KW' field exists\n",
    "                # Assuming keywords are separated by semicolons or are in a list\n",
    "                if isinstance(entry['title'], list):\n",
    "                    keywords.extend(entry['title'])\n",
    "                else:\n",
    "                    # Split the keywords string into a list if they're not already\n",
    "                    keywords.extend(entry['title'].split(';'))\n",
    "    return keywords\n",
    "\n",
    "# Extract keywords and store them in a list\n",
    "keywords_list = extract_keywords(ris_file_path)\n",
    "\n",
    "# Printing the first few keywords to check\n",
    "print(keywords_list[:10])\n",
    "\n",
    "# Assuming 'keywords' is a list containing all your keywords\n",
    "keyword_counts = Counter(keywords_list)  # Count the frequencies of each keyword\n",
    "df_keywords = pd.DataFrame(keyword_counts.items(), columns=['Keyword', 'Frequency'])\n",
    "\n",
    "# Display the DataFrame\n",
    "print(df_keywords.sort_values(by='Frequency', ascending=False))\n",
    "\n",
    "# Generate a word cloud\n",
    "wordcloud = WordCloud(width = 800, height = 800, \n",
    "                      background_color ='white', \n",
    "                      min_font_size = 10).generate_from_frequencies(keyword_counts)\n",
    "\n",
    "# Plot the WordCloud image                        \n",
    "plt.figure(figsize = (8, 8), facecolor = None) \n",
    "plt.imshow(wordcloud) \n",
    "plt.axis(\"off\") \n",
    "plt.tight_layout(pad = 0) \n",
    "  \n",
    "plt.show()"
   ]
  }
 ],
 "metadata": {
  "kernelspec": {
   "display_name": "Python 3",
   "language": "python",
   "name": "python3"
  },
  "language_info": {
   "codemirror_mode": {
    "name": "ipython",
    "version": 3
   },
   "file_extension": ".py",
   "mimetype": "text/x-python",
   "name": "python",
   "nbconvert_exporter": "python",
   "pygments_lexer": "ipython3",
   "version": "3.10.11"
  }
 },
 "nbformat": 4,
 "nbformat_minor": 2
}
